{
  "nbformat": 4,
  "nbformat_minor": 0,
  "metadata": {
    "colab": {
      "provenance": [],
      "include_colab_link": true
    },
    "kernelspec": {
      "name": "python3",
      "display_name": "Python 3"
    },
    "language_info": {
      "name": "python"
    }
  },
  "cells": [
    {
      "cell_type": "markdown",
      "metadata": {
        "id": "view-in-github",
        "colab_type": "text"
      },
      "source": [
        "<a href=\"https://colab.research.google.com/github/jakes1811/Smart-Waste-Segregation-System/blob/main/Smart_Waste_Segregation.ipynb\" target=\"_parent\"><img src=\"https://colab.research.google.com/assets/colab-badge.svg\" alt=\"Open In Colab\"/></a>"
      ]
    },
    {
      "cell_type": "code",
      "source": [
        "import zipfile\n",
        "import os\n",
        "\n",
        "# Path to your zip file\n",
        "zip_file_path = \"/content/Waste.zip\"\n",
        "\n",
        "# Extract to this folder\n",
        "extract_folder = \"/content/Waste\"\n",
        "\n",
        "# Create the directory if it doesn’t exist\n",
        "os.makedirs(extract_folder, exist_ok=True)\n",
        "\n",
        "# Extract the zip file\n",
        "with zipfile.ZipFile(zip_file_path, 'r') as zip_ref:\n",
        "    zip_ref.extractall(extract_folder)\n",
        "\n",
        "print(\"Extraction completed! Files are in:\", extract_folder)\n"
      ],
      "metadata": {
        "colab": {
          "base_uri": "https://localhost:8080/"
        },
        "id": "SCKxHx8GtttT",
        "outputId": "fad742e6-f303-4029-d2a6-2ed4d587edf1"
      },
      "execution_count": null,
      "outputs": [
        {
          "output_type": "stream",
          "name": "stdout",
          "text": [
            "Extraction completed! Files are in: /content/Waste\n"
          ]
        }
      ]
    },
    {
      "source": [
        "import cv2\n",
        "import os\n",
        "\n",
        "img_size = (224, 224)\n",
        "dataset_path = \"/content/Waste\"\n",
        "\n",
        "for category in os.listdir(dataset_path):\n",
        "    category_path = os.path.join(dataset_path, category)\n",
        "    # Check if it is a directory\n",
        "    if os.path.isdir(category_path):\n",
        "        for img_name in os.listdir(category_path):\n",
        "            img_path = os.path.join(category_path, img_name)\n",
        "            # Check if it is an image file\n",
        "            if os.path.isfile(img_path) and img_name.lower().endswith(('.png', '.jpg', '.jpeg')):\n",
        "                img = cv2.imread(img_path)\n",
        "                if img is not None: # Check if image was read successfully\n",
        "                    img = cv2.resize(img, img_size)\n",
        "                    cv2.imwrite(img_path, img)  # Save resized images\n",
        "                else:\n",
        "                    print(f\"Could not read image: {img_path}\")\n",
        "    else:\n",
        "        print(f\"Skipping non-directory: {category_path}\")"
      ],
      "cell_type": "code",
      "metadata": {
        "id": "3DU6OT7hmzvY"
      },
      "execution_count": null,
      "outputs": []
    },
    {
      "source": [
        "import tensorflow as tf\n",
        "from tensorflow.keras.applications import MobileNetV2\n",
        "from tensorflow.keras.layers import Dense, Flatten, GlobalAveragePooling2D\n",
        "from tensorflow.keras.models import Model\n",
        "from tensorflow.keras.preprocessing.image import ImageDataGenerator\n",
        "import os\n",
        "\n",
        "# Load MobileNetV2 as feature extractor\n",
        "base_model = MobileNetV2(weights='imagenet', include_top=False, input_shape=(128, 128, 3))\n",
        "\n",
        "# Freeze layers\n",
        "for layer in base_model.layers:\n",
        "    layer.trainable = False\n",
        "\n",
        "# Add custom classification layers\n",
        "x = base_model.output\n",
        "x = GlobalAveragePooling2D()(x)\n",
        "x = Dense(128, activation='relu')(x)\n",
        "output_layer = Dense(6, activation='softmax')(x)\n",
        "\n",
        "model = Model(inputs=base_model.input, outputs=output_layer)\n",
        "model.save('waste_classifier_mobile.h5')\n",
        "\n"
      ],
      "cell_type": "code",
      "metadata": {
        "id": "PDWWDHaMvdQG",
        "colab": {
          "base_uri": "https://localhost:8080/"
        },
        "outputId": "268251d0-7291-4b11-837b-814599703785"
      },
      "execution_count": null,
      "outputs": [
        {
          "output_type": "stream",
          "name": "stderr",
          "text": [
            "WARNING:absl:You are saving your model as an HDF5 file via `model.save()` or `keras.saving.save_model(model)`. This file format is considered legacy. We recommend using instead the native Keras format, e.g. `model.save('my_model.keras')` or `keras.saving.save_model(model, 'my_model.keras')`. \n"
          ]
        }
      ]
    }
  ]
}